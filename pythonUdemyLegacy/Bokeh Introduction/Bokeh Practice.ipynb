{
 "cells": [
  {
   "cell_type": "code",
   "execution_count": 6,
   "id": "b4af8fa3",
   "metadata": {},
   "outputs": [],
   "source": [
    "#Making a basic Bokeh line graph\n",
    "\n",
    "#importing Bokeh \n",
    "from bokeh.plotting import figure\n",
    "from bokeh.io import output_file, show\n",
    "\n",
    "#create some data using a list\n",
    "x = [1,2,3,4,5]\n",
    "y = [6,7,8,9,10] #these two lists must both be equal len, otherwise you will get an error \n",
    "\n",
    "#create output file \n",
    "output_file(\"line.html\")\n",
    "\n",
    "#create figure object\n",
    "f = figure()\n",
    "\n",
    "#create line plot \n",
    "f.line(x,y) #pass in the x and y which are the minimum requirements \n",
    "\n",
    "show(f)"
   ]
  },
  {
   "cell_type": "code",
   "execution_count": 15,
   "id": "300f299a",
   "metadata": {},
   "outputs": [],
   "source": [
    "#Making a basic Bokeh line graph\n",
    "\n",
    "#importing Bokeh and pandas\n",
    "from bokeh.plotting import figure\n",
    "from bokeh.io import output_file, show\n",
    "import pandas\n",
    "\n",
    "#create some data using a list\n",
    "df = pandas.read_csv(\"data.csv\")\n",
    "x = df[\"x\"]\n",
    "y = df[\"y\"] #these two lists must both be equal len, otherwise you will get an error \n",
    "\n",
    "#create output file \n",
    "output_file(\"line_from_csv.html\")\n",
    "\n",
    "#create figure object\n",
    "f = figure()c\n",
    "\n",
    "#create line plot \n",
    "f.line(x,y) #pass in the x and y which are the minimum requirements \n",
    "\n",
    "show(f)"
   ]
  },
  {
   "cell_type": "code",
   "execution_count": 24,
   "id": "8a3a57c7",
   "metadata": {},
   "outputs": [],
   "source": [
    "#Making a basic Bokeh line graph\n",
    "\n",
    "#importing Bokeh and pandas\n",
    "from bokeh.plotting import figure\n",
    "from bokeh.io import output_file, show\n",
    "import pandas\n",
    "\n",
    "#create some data using a list\n",
    "df = pandas.read_csv(\"bachelors.csv\")\n",
    "y = df[\"Engineering\"]\n",
    "x = df[\"Year\"] #these two lists must both be equal len, otherwise you will get an error \n",
    "\n",
    "#create output file \n",
    "output_file(\"line_Bachelors.html\")\n",
    "\n",
    "#create figure object\n",
    "f = figure()\n",
    "\n",
    "#create line plot \n",
    "f.line(x,y) #pass in the x and y which are the minimum requirements \n",
    "\n",
    "show(f)"
   ]
  },
  {
   "cell_type": "code",
   "execution_count": 30,
   "id": "26b3e53c",
   "metadata": {},
   "outputs": [],
   "source": [
    "from bokeh.plotting import figure\n",
    "from bokeh.io import output_file, show\n",
    "import pandas\n",
    "\n",
    "df=pandas.read_excel(\"verlegenhuken.xlsx\",sheet_name=0)\n",
    "df[\"Temperature\"]=df[\"Temperature\"]/10\n",
    "df[\"Pressure\"]=df[\"Pressure\"]/10\n",
    "\n",
    "p=figure(plot_width=500,plot_height=400,tools='pan')\n",
    " \n",
    "p.title.text=\"Temperature and Air Pressure\"\n",
    "p.title.text_color=\"Green\"\n",
    "p.title.text_font=\"arial\"\n",
    "p.title.text_font_style=\"bold\"\n",
    "p.xaxis.minor_tick_line_color=None\n",
    "p.yaxis.minor_tick_line_color=None\n",
    "p.xaxis.axis_label=\"Temperature (°C)\"\n",
    "p.yaxis.axis_label=\"Pressure (hPa)\"    \n",
    " \n",
    "p.circle(df[\"Temperature\"],df[\"Pressure\"],size=0.5)\n",
    "output_file(\"Weather.html\")\n",
    "show(p)"
   ]
  },
  {
   "cell_type": "code",
   "execution_count": 47,
   "id": "9cb8cacb",
   "metadata": {},
   "outputs": [],
   "source": [
    "#Time series graph\n",
    "from bokeh.plotting import figure, output_file, show\n",
    "import pandas\n",
    "\n",
    "df = pandas.read_csv(\"adbe.csv\", parse_dates=[\"Date\"])\n",
    "\n",
    "p = figure(width = 500, height = 250, x_axis_type=\"datetime\", sizing_mode=\"scale_both\")\n",
    "\n",
    "p.line(df[\"Date\"], df[\"Close\"], color=\"Orange\", alpha=0.5)\n",
    "\n",
    "output_file(\"Timeseries.html\")\n",
    "show(p)\n"
   ]
  }
 ],
 "metadata": {
  "kernelspec": {
   "display_name": "Python 3 (ipykernel)",
   "language": "python",
   "name": "python3"
  },
  "language_info": {
   "codemirror_mode": {
    "name": "ipython",
    "version": 3
   },
   "file_extension": ".py",
   "mimetype": "text/x-python",
   "name": "python",
   "nbconvert_exporter": "python",
   "pygments_lexer": "ipython3",
   "version": "3.10.2"
  }
 },
 "nbformat": 4,
 "nbformat_minor": 5
}
